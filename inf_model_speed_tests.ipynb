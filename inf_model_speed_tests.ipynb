{
 "cells": [
  {
   "cell_type": "markdown",
   "metadata": {},
   "source": [
    "# Traffic Light Frozen Inference Model Tests\n",
    "\n",
    "### Real Track Test Images\n",
    "\n",
    "Tests of traffic light detection/localization/classification on Udacity real track images. "
   ]
  },
  {
   "cell_type": "markdown",
   "metadata": {},
   "source": [
    "# Imports"
   ]
  },
  {
   "cell_type": "code",
   "execution_count": 1,
   "metadata": {
    "collapsed": true,
    "scrolled": true
   },
   "outputs": [],
   "source": [
    "import numpy as np\n",
    "import os\n",
    "import sys\n",
    "import tensorflow as tf\n",
    "\n",
    "from collections import defaultdict\n",
    "from io import StringIO\n",
    "from matplotlib import pyplot as plt\n",
    "from PIL import Image\n",
    "\n",
    "import time\n",
    "\n",
    "# Tested with tensorflow 1.3\n"
   ]
  },
  {
   "cell_type": "code",
   "execution_count": 2,
   "metadata": {
    "collapsed": true,
    "scrolled": false
   },
   "outputs": [],
   "source": [
    "# This is needed to display the images withing the notbook.\n",
    "%matplotlib inline"
   ]
  },
  {
   "cell_type": "markdown",
   "metadata": {},
   "source": [
    "## Object detection imports\n",
    "Here are the imports from the object detection module."
   ]
  },
  {
   "cell_type": "code",
   "execution_count": 3,
   "metadata": {
    "collapsed": false,
    "scrolled": false
   },
   "outputs": [],
   "source": [
    "from utils import label_map_util\n",
    "\n",
    "from utils import visualization_utils as vis_util"
   ]
  },
  {
   "cell_type": "markdown",
   "metadata": {},
   "source": [
    "## Helper code"
   ]
  },
  {
   "cell_type": "code",
   "execution_count": 4,
   "metadata": {
    "collapsed": true,
    "scrolled": false
   },
   "outputs": [],
   "source": [
    "def load_image_into_numpy_array(image):\n",
    "  (im_width, im_height) = image.size\n",
    "  return np.array(image.getdata()).reshape(\n",
    "      (im_height, im_width, 3)).astype(np.uint8)"
   ]
  },
  {
   "cell_type": "markdown",
   "metadata": {},
   "source": [
    "## Loading label map\n",
    "Label maps map indices to category names, so that when our convolution network predicts `1`, we know that this corresponds to `Green`, 2 to `Red`, and 3 to `Yellow`."
   ]
  },
  {
   "cell_type": "code",
   "execution_count": 5,
   "metadata": {
    "collapsed": false,
    "scrolled": false
   },
   "outputs": [],
   "source": [
    "# List of the strings that is used to add correct label for each box.\n",
    "PATH_TO_LABELS = 'tl_label_map.pbtxt'\n",
    "\n",
    "NUM_CLASSES = 3\n",
    "\n",
    "label_map = label_map_util.load_labelmap(PATH_TO_LABELS)\n",
    "categories = label_map_util.convert_label_map_to_categories(label_map, max_num_classes=NUM_CLASSES, use_display_name=True)\n",
    "category_index = label_map_util.create_category_index(categories)"
   ]
  },
  {
   "cell_type": "markdown",
   "metadata": {},
   "source": [
    "# Model preparation for trial19_ssd_inception_sim_frozen_inference_graph"
   ]
  },
  {
   "cell_type": "code",
   "execution_count": 10,
   "metadata": {
    "collapsed": true,
    "scrolled": false
   },
   "outputs": [],
   "source": [
    "# What model to download.\n",
    "\n",
    "# Path to frozen detection graph. This is the actual model that is used for the object detection.\n",
    "PATH_TO_CKPT = os.path.join('models', 'trial19_ssd_inception_sim_frozen_inference_graph.pb')"
   ]
  },
  {
   "cell_type": "markdown",
   "metadata": {},
   "source": [
    "### Load a (frozen) Tensorflow model into memory."
   ]
  },
  {
   "cell_type": "code",
   "execution_count": 11,
   "metadata": {
    "collapsed": false,
    "scrolled": false
   },
   "outputs": [],
   "source": [
    "detection_graph = tf.Graph()\n",
    "with detection_graph.as_default():\n",
    "  od_graph_def = tf.GraphDef()\n",
    "  with tf.gfile.GFile(PATH_TO_CKPT, 'rb') as fid:\n",
    "    serialized_graph = fid.read()\n",
    "    od_graph_def.ParseFromString(serialized_graph)\n",
    "    tf.import_graph_def(od_graph_def, name='')\n",
    "  \n",
    "    sess = tf.Session(graph=detection_graph)\n",
    "    \n",
    "# Definite input and output Tensors for detection_graph\n",
    "image_tensor = detection_graph.get_tensor_by_name('image_tensor:0')\n",
    "# Each box represents a part of the image where a particular object was detected.\n",
    "detection_boxes = detection_graph.get_tensor_by_name('detection_boxes:0')\n",
    "# Each score represent how level of confidence for each of the objects.\n",
    "# Score is shown on the result image, together with the class label.\n",
    "detection_scores = detection_graph.get_tensor_by_name('detection_scores:0')\n",
    "detection_classes = detection_graph.get_tensor_by_name('detection_classes:0')\n",
    "num_detections = detection_graph.get_tensor_by_name('num_detections:0')"
   ]
  },
  {
   "cell_type": "markdown",
   "metadata": {},
   "source": [
    "## trial19_ssd_inception_sim_frozen_inference_graph\n",
    "## Detection times on Real Images from Test Track without warmup image"
   ]
  },
  {
   "cell_type": "code",
   "execution_count": 12,
   "metadata": {
    "collapsed": false,
    "scrolled": false
   },
   "outputs": [],
   "source": [
    "from glob import glob\n",
    "# If you want to test the code with your images, just add path to the images to the TEST_IMAGE_PATHS.\n",
    "PATH_TO_TEST_IMAGES_DIR = 'test_images_real'\n",
    "TEST_IMAGE_PATHS = glob(os.path.join(PATH_TO_TEST_IMAGES_DIR, '*.jpg'))\n",
    "\n",
    "# Size, in inches, of the output images.\n",
    "IMAGE_SIZE = (12, 8)"
   ]
  },
  {
   "cell_type": "code",
   "execution_count": 13,
   "metadata": {
    "collapsed": false,
    "scrolled": true
   },
   "outputs": [
    {
     "name": "stdout",
     "output_type": "stream",
     "text": [
      "Time in ms:  1437.323808670044 \n",
      "\n",
      "Time in ms:  16.04461669921875 \n",
      "\n",
      "Time in ms:  16.54529571533203 \n",
      "\n",
      "Time in ms:  18.049240112304688 \n",
      "\n",
      "Time in ms:  17.548322677612305 \n",
      "\n",
      "Time in ms:  16.545534133911133 \n",
      "\n",
      "Time in ms:  17.04716682434082 \n",
      "\n",
      "Time in ms:  15.542745590209961 \n",
      "\n",
      "Time in ms:  17.548084259033203 \n",
      "\n",
      "Time in ms:  17.046689987182617 \n",
      "\n",
      "Time in ms:  17.5478458404541 \n",
      "\n",
      "Time in ms:  17.548084259033203 \n",
      "\n",
      "Time in ms:  16.545534133911133 \n",
      "\n",
      "Time in ms:  17.04692840576172 \n",
      "\n",
      "Time in ms:  17.046689987182617 \n",
      "\n",
      "Time in ms:  17.04573631286621 \n",
      "\n",
      "Time in ms:  16.54338836669922 \n",
      "\n",
      "Time in ms:  16.044139862060547 \n",
      "\n",
      "Time in ms:  16.042470932006836 \n",
      "\n",
      "Time in ms:  17.045259475708008 \n",
      "\n",
      "Time in ms:  17.546653747558594 \n",
      "\n",
      "Time in ms:  16.043901443481445 \n",
      "\n",
      "Time in ms:  17.046451568603516 \n",
      "\n",
      "Time in ms:  16.54505729675293 \n",
      "\n",
      "Time in ms:  17.04692840576172 \n",
      "\n",
      "Time in ms:  16.545534133911133 \n",
      "\n",
      "Time in ms:  16.042232513427734 \n",
      "\n",
      "Time in ms:  16.543865203857422 \n",
      "\n",
      "Time in ms:  18.047332763671875 \n",
      "\n",
      "Time in ms:  16.042470932006836 \n",
      "\n",
      "Time in ms:  16.54529571533203 \n",
      "\n",
      "Time in ms:  16.546249389648438 \n",
      "\n",
      "Time in ms:  15.54250717163086 \n",
      "\n",
      "Time in ms:  17.046451568603516 \n",
      "\n",
      "Time in ms:  17.54927635192871 \n",
      "\n",
      "Time in ms:  16.54505729675293 \n",
      "\n",
      "Time in ms:  17.548084259033203 \n",
      "\n",
      "Time in ms:  18.049240112304688 \n",
      "\n",
      "Time in ms:  17.046689987182617 \n",
      "\n",
      "Time in ms:  17.54593849182129 \n",
      "\n"
     ]
    }
   ],
   "source": [
    "# The time for the first image includes startup time for tensorflow\n",
    "with detection_graph.as_default():\n",
    "    for image_path in TEST_IMAGE_PATHS:\n",
    "        image = Image.open(image_path)\n",
    "        # the array based representation of the image will be used later in order to prepare the\n",
    "        # result image with boxes and labels on it.\n",
    "        image_np = load_image_into_numpy_array(image)\n",
    "        # Expand dimensions since the model expects images to have shape: [1, None, None, 3]\n",
    "        image_np_expanded = np.expand_dims(image_np, axis=0)\n",
    "\n",
    "        # Actual detection.\n",
    "        time0 = time.time()\n",
    "        (boxes, scores, classes, num) = sess.run(\n",
    "            [detection_boxes, detection_scores, detection_classes, num_detections],\n",
    "            feed_dict={image_tensor: image_np_expanded})\n",
    "        time1 = time.time()\n",
    "\n",
    "        # Visualization of the results of a detection.\n",
    "    #     vis_util.visualize_boxes_and_labels_on_image_array(\n",
    "    #         image_np,\n",
    "    #         np.squeeze(boxes),\n",
    "    #         np.squeeze(classes).astype(np.int32),\n",
    "    #         np.squeeze(scores),\n",
    "    #         category_index,\n",
    "    #         use_normalized_coordinates=True,\n",
    "    #         line_thickness=7)\n",
    "    #     plt.figure(figsize=IMAGE_SIZE)\n",
    "    #     plt.rcParams.update({'figure.max_open_warning': 0})\n",
    "    #     plt.imshow(image_np)\n",
    "    #     plt.show()\n",
    "        print(\"Time in ms: \", (time1 - time0) * 1000, \"\\n\")"
   ]
  },
  {
   "cell_type": "markdown",
   "metadata": {},
   "source": [
    "# Model preparation for trial19_ssd_inception_sim_frozen_inference_graph"
   ]
  },
  {
   "cell_type": "code",
   "execution_count": 6,
   "metadata": {
    "collapsed": true,
    "scrolled": false
   },
   "outputs": [],
   "source": [
    "# What model to download.\n",
    "\n",
    "# Path to frozen detection graph. This is the actual model that is used for the object detection.\n",
    "PATH_TO_CKPT = os.path.join('models', 'trial19_ssd_inception_sim_frozen_inference_graph.pb')"
   ]
  },
  {
   "cell_type": "markdown",
   "metadata": {},
   "source": [
    "### Load a (frozen) Tensorflow model into memory and run an image through to get it going."
   ]
  },
  {
   "cell_type": "code",
   "execution_count": 7,
   "metadata": {
    "collapsed": false,
    "scrolled": false
   },
   "outputs": [],
   "source": [
    "detection_graph = tf.Graph()\n",
    "with detection_graph.as_default():\n",
    "  od_graph_def = tf.GraphDef()\n",
    "  with tf.gfile.GFile(PATH_TO_CKPT, 'rb') as fid:\n",
    "    serialized_graph = fid.read()\n",
    "    od_graph_def.ParseFromString(serialized_graph)\n",
    "    tf.import_graph_def(od_graph_def, name='')\n",
    "  \n",
    "    sess = tf.Session(graph=detection_graph)\n",
    "    \n",
    "# Definite input and output Tensors for detection_graph\n",
    "image_tensor = detection_graph.get_tensor_by_name('image_tensor:0')\n",
    "# Each box represents a part of the image where a particular object was detected.\n",
    "detection_boxes = detection_graph.get_tensor_by_name('detection_boxes:0')\n",
    "# Each score represent how level of confidence for each of the objects.\n",
    "# Score is shown on the result image, together with the class label.\n",
    "detection_scores = detection_graph.get_tensor_by_name('detection_scores:0')\n",
    "detection_classes = detection_graph.get_tensor_by_name('detection_classes:0')\n",
    "num_detections = detection_graph.get_tensor_by_name('num_detections:0')\n",
    "\n",
    "image = Image.open('test_images_real/left0314.jpg')\n",
    "# the array based representation of the image will be used later in order to prepare the\n",
    "# result image with boxes and labels on it.\n",
    "image_np = load_image_into_numpy_array(image)\n",
    "# Expand dimensions since the model expects images to have shape: [1, None, None, 3]\n",
    "image_np_expanded = np.expand_dims(image_np, axis=0)\n",
    "\n",
    "(boxes, scores, classes, num) = sess.run(\n",
    "            [detection_boxes, detection_scores, detection_classes, num_detections],\n",
    "            feed_dict={image_tensor: image_np_expanded})"
   ]
  },
  {
   "cell_type": "markdown",
   "metadata": {},
   "source": [
    "## trial19_ssd_inception_sim_frozen_inference_graph\n",
    "## Detection times on Real Images from Test Track with warmup image."
   ]
  },
  {
   "cell_type": "code",
   "execution_count": 8,
   "metadata": {
    "collapsed": false,
    "scrolled": false
   },
   "outputs": [],
   "source": [
    "from glob import glob\n",
    "# If you want to test the code with your images, just add path to the images to the TEST_IMAGE_PATHS.\n",
    "PATH_TO_TEST_IMAGES_DIR = 'test_images_real'\n",
    "TEST_IMAGE_PATHS = glob(os.path.join(PATH_TO_TEST_IMAGES_DIR, '*.jpg'))\n",
    "\n",
    "# Size, in inches, of the output images.\n",
    "IMAGE_SIZE = (12, 8)"
   ]
  },
  {
   "cell_type": "code",
   "execution_count": 9,
   "metadata": {
    "collapsed": false,
    "scrolled": true
   },
   "outputs": [
    {
     "name": "stdout",
     "output_type": "stream",
     "text": [
      "Time in ms:  16.042709350585938 \n",
      "\n",
      "Time in ms:  16.54338836669922 \n",
      "\n",
      "Time in ms:  16.544103622436523 \n",
      "\n",
      "Time in ms:  17.548322677612305 \n",
      "\n",
      "Time in ms:  17.04692840576172 \n",
      "\n",
      "Time in ms:  15.542984008789062 \n",
      "\n",
      "Time in ms:  16.54505729675293 \n",
      "\n",
      "Time in ms:  17.046689987182617 \n",
      "\n",
      "Time in ms:  17.548322677612305 \n",
      "\n",
      "Time in ms:  17.046689987182617 \n",
      "\n",
      "Time in ms:  17.047405242919922 \n",
      "\n",
      "Time in ms:  16.54505729675293 \n",
      "\n",
      "Time in ms:  17.046689987182617 \n",
      "\n",
      "Time in ms:  18.04971694946289 \n",
      "\n",
      "Time in ms:  16.544103622436523 \n",
      "\n",
      "Time in ms:  16.544342041015625 \n",
      "\n",
      "Time in ms:  16.043901443481445 \n",
      "\n",
      "Time in ms:  16.544818878173828 \n",
      "\n",
      "Time in ms:  17.04573631286621 \n",
      "\n",
      "Time in ms:  17.046213150024414 \n",
      "\n",
      "Time in ms:  16.54529571533203 \n",
      "\n",
      "Time in ms:  17.04716682434082 \n",
      "\n",
      "Time in ms:  17.045021057128906 \n",
      "\n",
      "Time in ms:  17.548799514770508 \n",
      "\n",
      "Time in ms:  16.04485511779785 \n",
      "\n",
      "Time in ms:  17.54927635192871 \n",
      "\n",
      "Time in ms:  17.045259475708008 \n",
      "\n",
      "Time in ms:  17.547607421875 \n",
      "\n",
      "Time in ms:  15.542268753051758 \n",
      "\n",
      "Time in ms:  16.04437828063965 \n",
      "\n",
      "Time in ms:  17.045259475708008 \n",
      "\n",
      "Time in ms:  15.543460845947266 \n",
      "\n",
      "Time in ms:  17.04692840576172 \n",
      "\n",
      "Time in ms:  16.545534133911133 \n",
      "\n",
      "Time in ms:  16.544580459594727 \n",
      "\n",
      "Time in ms:  17.548799514770508 \n",
      "\n",
      "Time in ms:  16.54529571533203 \n",
      "\n",
      "Time in ms:  17.547607421875 \n",
      "\n",
      "Time in ms:  17.548084259033203 \n",
      "\n",
      "Time in ms:  17.04716682434082 \n",
      "\n"
     ]
    }
   ],
   "source": [
    "# The time for the first image includes startup time for tensorflow\n",
    "with detection_graph.as_default():\n",
    "    for image_path in TEST_IMAGE_PATHS:\n",
    "        image = Image.open(image_path)\n",
    "        # the array based representation of the image will be used later in order to prepare the\n",
    "        # result image with boxes and labels on it.\n",
    "        image_np = load_image_into_numpy_array(image)\n",
    "        # Expand dimensions since the model expects images to have shape: [1, None, None, 3]\n",
    "        image_np_expanded = np.expand_dims(image_np, axis=0)\n",
    "\n",
    "        # Actual detection.\n",
    "        time0 = time.time()\n",
    "        (boxes, scores, classes, num) = sess.run(\n",
    "            [detection_boxes, detection_scores, detection_classes, num_detections],\n",
    "            feed_dict={image_tensor: image_np_expanded})\n",
    "        time1 = time.time()\n",
    "\n",
    "        # Visualization of the results of a detection.\n",
    "    #     vis_util.visualize_boxes_and_labels_on_image_array(\n",
    "    #         image_np,\n",
    "    #         np.squeeze(boxes),\n",
    "    #         np.squeeze(classes).astype(np.int32),\n",
    "    #         np.squeeze(scores),\n",
    "    #         category_index,\n",
    "    #         use_normalized_coordinates=True,\n",
    "    #         line_thickness=7)\n",
    "    #     plt.figure(figsize=IMAGE_SIZE)\n",
    "    #     plt.rcParams.update({'figure.max_open_warning': 0})\n",
    "    #     plt.imshow(image_np)\n",
    "    #     plt.show()\n",
    "        print(\"Time in ms: \", (time1 - time0) * 1000, \"\\n\")"
   ]
  },
  {
   "cell_type": "code",
   "execution_count": null,
   "metadata": {
    "collapsed": true
   },
   "outputs": [],
   "source": []
  }
 ],
 "metadata": {
  "anaconda-cloud": {},
  "kernelspec": {
   "display_name": "Python [conda env:sdcnd_cap]",
   "language": "python",
   "name": "conda-env-sdcnd_cap-py"
  },
  "language_info": {
   "codemirror_mode": {
    "name": "ipython",
    "version": 3
   },
   "file_extension": ".py",
   "mimetype": "text/x-python",
   "name": "python",
   "nbconvert_exporter": "python",
   "pygments_lexer": "ipython3",
   "version": "3.6.2"
  }
 },
 "nbformat": 4,
 "nbformat_minor": 2
}
